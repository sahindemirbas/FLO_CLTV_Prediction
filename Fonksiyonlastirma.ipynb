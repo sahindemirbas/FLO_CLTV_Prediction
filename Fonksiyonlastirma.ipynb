{
 "cells": [
  {
   "metadata": {},
   "cell_type": "markdown",
   "source": "",
   "id": "9b53a89e2a0130bd"
  },
  {
   "metadata": {},
   "cell_type": "markdown",
   "source": "# Gerekli kütüphaneleri yükleyin\n",
   "id": "8da9a5e71c91aba5"
  },
  {
   "metadata": {},
   "cell_type": "code",
   "outputs": [],
   "execution_count": null,
   "source": [
    "import pandas as pd\n",
    "from lifetimes import BetaGeoFitter, GammaGammaFitter"
   ],
   "id": "487e4a885f07a04c"
  },
  {
   "metadata": {},
   "cell_type": "markdown",
   "source": "# Veriyi Hazırlama ve Aykırı Değerleri Baskılama\n",
   "id": "660d72bf94dc1794"
  },
  {
   "metadata": {},
   "cell_type": "code",
   "outputs": [],
   "execution_count": null,
   "source": [
    "def prepare_data(file_path):\n",
    "    df = pd.read_csv(file_path)\n",
    "    \n",
    "    # Tarih değişkenlerini date formatına çevir\n",
    "    date_columns = [\"first_order_date\", \"last_order_date\", \"last_order_date_online\", \"last_order_date_offline\"]\n",
    "    for col in date_columns:\n",
    "        df[col] = pd.to_datetime(df[col])\n",
    "    \n",
    "    # Eksik ve 0 değerleri kontrol et\n",
    "    print(\"Eksik değer sayısı:\")\n",
    "    print(df.isnull().sum())\n",
    "    print(\"0 değer sayısı:\")\n",
    "    print((df == 0).sum())\n",
    "    \n",
    "    # Eksik ve 0 değerleri sil\n",
    "    df = df.dropna()\n",
    "    df = df[(df[['order_num_total_ever_online', 'order_num_total_ever_offline', \n",
    "                 'customer_value_total_ever_offline', 'customer_value_total_ever_online']] != 0).all(axis=1)]\n",
    "    \n",
    "    # Aykırı Değerleri Baskılamak için Fonksiyonları Tanımla\n",
    "    def outlier_thresholds(dataframe, variable):\n",
    "        quartile1 = dataframe[variable].quantile(0.01)\n",
    "        quartile3 = dataframe[variable].quantile(0.99)\n",
    "        interquartile_range = quartile3 - quartile1\n",
    "        up_limit = quartile3 + 1.5 * interquartile_range\n",
    "        low_limit = quartile1 - 1.5 * interquartile_range\n",
    "        return low_limit, up_limit\n",
    "\n",
    "    def replace_with_thresholds(dataframe, variable):\n",
    "        low_limit, up_limit = outlier_thresholds(dataframe, variable)\n",
    "        dataframe.loc[(dataframe[variable] < low_limit), variable] = low_limit\n",
    "        dataframe.loc[(dataframe[variable] > up_limit), variable] = up_limit\n",
    "\n",
    "    # Belirtilen Değişkenlerin Aykırı Değerlerini Baskıla\n",
    "    variables = [\"order_num_total_ever_online\", \"order_num_total_ever_offline\", \n",
    "                 \"customer_value_total_ever_offline\", \"customer_value_total_ever_online\"]\n",
    "\n",
    "    for variable in variables:\n",
    "        replace_with_thresholds(df, variable)\n",
    "    \n",
    "    # Toplam Alışveriş Sayısı ve Harcaması için Yeni Değişkenler Oluştur\n",
    "    df[\"total_order\"] = df[\"order_num_total_ever_online\"] + df[\"order_num_total_ever_offline\"]\n",
    "    df[\"total_value\"] = df[\"customer_value_total_ever_online\"] + df[\"customer_value_total_ever_offline\"]\n",
    "    \n",
    "    return df\n"
   ],
   "id": "9183d6e41b553792"
  },
  {
   "metadata": {},
   "cell_type": "markdown",
   "source": "# CLTV Veri Yapısının Oluşturulması\n",
   "id": "2a41550997a39f80"
  },
  {
   "metadata": {},
   "cell_type": "code",
   "outputs": [],
   "execution_count": null,
   "source": [
    "def create_cltv_dataframe(df):\n",
    "    # Analiz tarihi\n",
    "    analysis_date = df[\"last_order_date\"].max() + pd.DateOffset(days=2)\n",
    "    \n",
    "    # Recency ve Tenure hesaplama (haftalık olarak)\n",
    "    df[\"recency_cltv_weekly\"] = (df[\"last_order_date\"] - df[\"first_order_date\"]).dt.days / 7\n",
    "    df[\"T_weekly\"] = (analysis_date - df[\"first_order_date\"]).dt.days / 7\n",
    "    \n",
    "    # Frequency ve Monetary hesaplama\n",
    "    df[\"frequency\"] = df[\"total_order\"]\n",
    "    df[\"monetary_cltv_avg\"] = df[\"total_value\"] / df[\"total_order\"]\n",
    "    \n",
    "    # CLTV dataframe'i oluşturma\n",
    "    cltv_df = df.loc[:, [\"master_id\", \"recency_cltv_weekly\", \"T_weekly\", \"frequency\", \"monetary_cltv_avg\"]]\n",
    "    cltv_df.columns = [\"customer_id\", \"recency_cltv_weekly\", \"T_weekly\", \"frequency\", \"monetary_cltv_avg\"]\n",
    "    \n",
    "    # Frequency değerlerinin integer olması gerekiyor\n",
    "    cltv_df[\"frequency\"] = cltv_df[\"frequency\"].astype(int)\n",
    "    \n",
    "    return cltv_df\n",
    "\n"
   ],
   "id": "3335805404917d00"
  },
  {
   "metadata": {},
   "cell_type": "markdown",
   "source": "# BG/NBD ve Gamma-Gamma Modellerinin Kurulması, CLTV'nin Hesaplanması",
   "id": "2c47a584ebb38fe6"
  },
  {
   "metadata": {},
   "cell_type": "code",
   "outputs": [],
   "execution_count": null,
   "source": [
    "def fit_bgf_ggf_models(cltv_df):\n",
    "    # BG/NBD modelini fit et\n",
    "    bgf = BetaGeoFitter(penalizer_coef=0.001)\n",
    "    bgf.fit(cltv_df['frequency'], cltv_df['recency_cltv_weekly'], cltv_df['T_weekly'])\n",
    "    \n",
    "    # 3 ay içerisinde beklenen satın almalar\n",
    "    cltv_df['exp_sales_3_month'] = bgf.predict(3*4, cltv_df['frequency'], cltv_df['recency_cltv_weekly'], cltv_df['T_weekly'])\n",
    "    \n",
    "    # 6 ay içerisinde beklenen satın almalar\n",
    "    cltv_df['exp_sales_6_month'] = bgf.predict(6*4, cltv_df['frequency'], cltv_df['recency_cltv_weekly'], cltv_df['T_weekly'])\n",
    "    \n",
    "    # Gamma-Gamma modelini fit et\n",
    "    ggf = GammaGammaFitter(penalizer_coef=0.01)\n",
    "    ggf.fit(cltv_df['frequency'], cltv_df['monetary_cltv_avg'])\n",
    "    \n",
    "    # Tahmin edilen ortalama değeri dataframe'e ekle\n",
    "    cltv_df['exp_average_value'] = ggf.conditional_expected_average_profit(cltv_df['frequency'], cltv_df['monetary_cltv_avg'])\n",
    "    \n",
    "    # 6 aylık CLTV hesapla\n",
    "    cltv_df['cltv'] = ggf.customer_lifetime_value(\n",
    "        bgf, \n",
    "        cltv_df['frequency'], \n",
    "        cltv_df['recency_cltv_weekly'], \n",
    "        cltv_df['T_weekly'], \n",
    "        cltv_df['monetary_cltv_avg'], \n",
    "        time=6,  # 6 aylık\n",
    "        freq='W',  # Haftalık\n",
    "        discount_rate=0.01  # İskonto oranı\n",
    "    )\n",
    "    \n",
    "    return cltv_df"
   ],
   "id": "a6936cf2893142d"
  },
  {
   "metadata": {},
   "cell_type": "markdown",
   "source": "# CLTV'ye Göre Segmentlerin Oluşturulması\n",
   "id": "9d90e90ac351a14f"
  },
  {
   "metadata": {},
   "cell_type": "code",
   "outputs": [],
   "execution_count": null,
   "source": [
    "def create_segments(cltv_df):\n",
    "    # Müşterileri CLTV'ye göre segmentlere ayır\n",
    "    cltv_df['cltv_segment'] = pd.qcut(cltv_df['cltv'], 4, labels=[\"D\", \"C\", \"B\", \"A\"])\n",
    "    return cltv_df\n",
    "\n",
    "def action_recommendations():\n",
    "    recommendations = {\n",
    "        \"Group A\": [\n",
    "            \"Sadakat Programları: En değerli müşterilerinize özel sadakat programları sunun. Özel indirimler, erken erişim fırsatları ve ücretsiz kargo gibi avantajlar sağlayarak sadakati artırın.\",\n",
    "            \"Kişiselleştirilmiş Pazarlama: Müşterilerin önceki alışveriş alışkanlıklarına dayanarak kişiselleştirilmiş pazarlama kampanyaları oluşturun. Onlara özel ürün önerileri ve kampanyalar sunarak müşteri memnuniyetini artırın.\"\n",
    "        ],\n",
    "        \"Group B\": [\n",
    "            \"Çapraz Satış Stratejileri: Bu gruptaki müşterilere ilgili ürünleri sunarak çapraz satış fırsatlarını değerlendirin. Örneğin, bir ayakkabı satın alan müşteriye uyumlu çorap veya bakım ürünleri önerin.\",\n",
    "            \"Müşteri Geri Bildirimi: Müşteri geri bildirimlerini toplamak ve değerlendirmek için anketler düzenleyin. Müşteri memnuniyetini artırmak için geri bildirimlere dayalı iyileştirmeler yapın.\"\n",
    "        ]\n",
    "    }\n",
    "    return recommendations"
   ],
   "id": "4262538e6c45484c"
  },
  {
   "metadata": {},
   "cell_type": "markdown",
   "source": "# Tüm Süreci Fonksiyonlaştırma\n",
   "id": "c41fbadae5d764"
  },
  {
   "metadata": {},
   "cell_type": "code",
   "outputs": [],
   "execution_count": null,
   "source": [
    "def main(file_path):\n",
    "    df = prepare_data(file_path)\n",
    "    cltv_df = create_cltv_dataframe(df)\n",
    "    cltv_df = fit_bgf_ggf_models(cltv_df)\n",
    "    cltv_df = create_segments(cltv_df)\n",
    "    \n",
    "    recommendations = action_recommendations()\n",
    "    \n",
    "    # CLTV değeri en yüksek 20 kişiyi gözlemle\n",
    "    top_20_cltv = cltv_df.sort_values(by='cltv', ascending=False).head(20)\n",
    "    \n",
    "    return cltv_df, top_20_cltv, recommendations"
   ],
   "id": "1bee375afc14e44e"
  },
  {
   "metadata": {},
   "cell_type": "markdown",
   "source": "# Ana fonksiyonu çağırma\n",
   "id": "14c6fb02b8de30fe"
  },
  {
   "metadata": {},
   "cell_type": "code",
   "outputs": [],
   "execution_count": null,
   "source": [
    "file_path = '/https://github.com/sahindemirbas/FLO_CLTV_Prediction/blob/45b2fcd206d70f8d1caa8b7772229eb2c7a89b4f/flo_data_20k.csv'\n",
    "cltv_df, top_20_cltv, recommendations = main(file_path)"
   ],
   "id": "5f3f7fdb21f2ebd5"
  },
  {
   "metadata": {},
   "cell_type": "markdown",
   "source": "# Sonuçları görüntüle\n",
   "id": "f63dae553d804295"
  },
  {
   "metadata": {},
   "cell_type": "code",
   "outputs": [],
   "execution_count": null,
   "source": [
    "print(cltv_df.head())\n",
    "print(top_20_cltv)\n",
    "print(recommendations)"
   ],
   "id": "68fb66ecb4474ce3"
  }
 ],
 "metadata": {
  "kernelspec": {
   "display_name": "Python 3",
   "language": "python",
   "name": "python3"
  },
  "language_info": {
   "codemirror_mode": {
    "name": "ipython",
    "version": 2
   },
   "file_extension": ".py",
   "mimetype": "text/x-python",
   "name": "python",
   "nbconvert_exporter": "python",
   "pygments_lexer": "ipython2",
   "version": "2.7.6"
  }
 },
 "nbformat": 4,
 "nbformat_minor": 5
}
