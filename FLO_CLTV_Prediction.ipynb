{
 "cells": [
  {
   "metadata": {},
   "cell_type": "markdown",
   "source": "# Gerekli kütüphaneleri yükleyin",
   "id": "eaaf1b55efa606e4"
  },
  {
   "metadata": {
    "ExecuteTime": {
     "end_time": "2024-08-14T08:46:57.795216Z",
     "start_time": "2024-08-14T08:46:56.684835Z"
    }
   },
   "cell_type": "code",
   "source": [
    "import pandas as pd\n",
    "from lifetimes import BetaGeoFitter, GammaGammaFitter"
   ],
   "id": "32d370897d57c82d",
   "outputs": [],
   "execution_count": 1
  },
  {
   "metadata": {},
   "cell_type": "markdown",
   "source": "# Veri setini oku\n",
   "id": "e8dcf801ecec06b6"
  },
  {
   "metadata": {
    "ExecuteTime": {
     "end_time": "2024-08-14T08:47:44.604175Z",
     "start_time": "2024-08-14T08:47:44.542025Z"
    }
   },
   "cell_type": "code",
   "source": [
    "file_path = 'flo_data_20k.csv'\n",
    "df = pd.read_csv(file_path)\n",
    "df.head()"
   ],
   "id": "1183c4de4bbf3b57",
   "outputs": [
    {
     "data": {
      "text/plain": [
       "                              master_id order_channel last_order_channel  \\\n",
       "0  cc294636-19f0-11eb-8d74-000d3a38a36f   Android App            Offline   \n",
       "1  f431bd5a-ab7b-11e9-a2fc-000d3a38a36f   Android App             Mobile   \n",
       "2  69b69676-1a40-11ea-941b-000d3a38a36f   Android App        Android App   \n",
       "3  1854e56c-491f-11eb-806e-000d3a38a36f   Android App        Android App   \n",
       "4  d6ea1074-f1f5-11e9-9346-000d3a38a36f       Desktop            Desktop   \n",
       "\n",
       "  first_order_date last_order_date last_order_date_online  \\\n",
       "0       2020-10-30      2021-02-26             2021-02-21   \n",
       "1       2017-02-08      2021-02-16             2021-02-16   \n",
       "2       2019-11-27      2020-11-27             2020-11-27   \n",
       "3       2021-01-06      2021-01-17             2021-01-17   \n",
       "4       2019-08-03      2021-03-07             2021-03-07   \n",
       "\n",
       "  last_order_date_offline  order_num_total_ever_online  \\\n",
       "0              2021-02-26                          4.0   \n",
       "1              2020-01-10                         19.0   \n",
       "2              2019-12-01                          3.0   \n",
       "3              2021-01-06                          1.0   \n",
       "4              2019-08-03                          1.0   \n",
       "\n",
       "   order_num_total_ever_offline  customer_value_total_ever_offline  \\\n",
       "0                           1.0                             139.99   \n",
       "1                           2.0                             159.97   \n",
       "2                           2.0                             189.97   \n",
       "3                           1.0                              39.99   \n",
       "4                           1.0                              49.99   \n",
       "\n",
       "   customer_value_total_ever_online       interested_in_categories_12  \n",
       "0                            799.38                           [KADIN]  \n",
       "1                           1853.58  [ERKEK, COCUK, KADIN, AKTIFSPOR]  \n",
       "2                            395.35                    [ERKEK, KADIN]  \n",
       "3                             81.98               [AKTIFCOCUK, COCUK]  \n",
       "4                            159.99                       [AKTIFSPOR]  "
      ],
      "text/html": [
       "<div>\n",
       "<style scoped>\n",
       "    .dataframe tbody tr th:only-of-type {\n",
       "        vertical-align: middle;\n",
       "    }\n",
       "\n",
       "    .dataframe tbody tr th {\n",
       "        vertical-align: top;\n",
       "    }\n",
       "\n",
       "    .dataframe thead th {\n",
       "        text-align: right;\n",
       "    }\n",
       "</style>\n",
       "<table border=\"1\" class=\"dataframe\">\n",
       "  <thead>\n",
       "    <tr style=\"text-align: right;\">\n",
       "      <th></th>\n",
       "      <th>master_id</th>\n",
       "      <th>order_channel</th>\n",
       "      <th>last_order_channel</th>\n",
       "      <th>first_order_date</th>\n",
       "      <th>last_order_date</th>\n",
       "      <th>last_order_date_online</th>\n",
       "      <th>last_order_date_offline</th>\n",
       "      <th>order_num_total_ever_online</th>\n",
       "      <th>order_num_total_ever_offline</th>\n",
       "      <th>customer_value_total_ever_offline</th>\n",
       "      <th>customer_value_total_ever_online</th>\n",
       "      <th>interested_in_categories_12</th>\n",
       "    </tr>\n",
       "  </thead>\n",
       "  <tbody>\n",
       "    <tr>\n",
       "      <th>0</th>\n",
       "      <td>cc294636-19f0-11eb-8d74-000d3a38a36f</td>\n",
       "      <td>Android App</td>\n",
       "      <td>Offline</td>\n",
       "      <td>2020-10-30</td>\n",
       "      <td>2021-02-26</td>\n",
       "      <td>2021-02-21</td>\n",
       "      <td>2021-02-26</td>\n",
       "      <td>4.0</td>\n",
       "      <td>1.0</td>\n",
       "      <td>139.99</td>\n",
       "      <td>799.38</td>\n",
       "      <td>[KADIN]</td>\n",
       "    </tr>\n",
       "    <tr>\n",
       "      <th>1</th>\n",
       "      <td>f431bd5a-ab7b-11e9-a2fc-000d3a38a36f</td>\n",
       "      <td>Android App</td>\n",
       "      <td>Mobile</td>\n",
       "      <td>2017-02-08</td>\n",
       "      <td>2021-02-16</td>\n",
       "      <td>2021-02-16</td>\n",
       "      <td>2020-01-10</td>\n",
       "      <td>19.0</td>\n",
       "      <td>2.0</td>\n",
       "      <td>159.97</td>\n",
       "      <td>1853.58</td>\n",
       "      <td>[ERKEK, COCUK, KADIN, AKTIFSPOR]</td>\n",
       "    </tr>\n",
       "    <tr>\n",
       "      <th>2</th>\n",
       "      <td>69b69676-1a40-11ea-941b-000d3a38a36f</td>\n",
       "      <td>Android App</td>\n",
       "      <td>Android App</td>\n",
       "      <td>2019-11-27</td>\n",
       "      <td>2020-11-27</td>\n",
       "      <td>2020-11-27</td>\n",
       "      <td>2019-12-01</td>\n",
       "      <td>3.0</td>\n",
       "      <td>2.0</td>\n",
       "      <td>189.97</td>\n",
       "      <td>395.35</td>\n",
       "      <td>[ERKEK, KADIN]</td>\n",
       "    </tr>\n",
       "    <tr>\n",
       "      <th>3</th>\n",
       "      <td>1854e56c-491f-11eb-806e-000d3a38a36f</td>\n",
       "      <td>Android App</td>\n",
       "      <td>Android App</td>\n",
       "      <td>2021-01-06</td>\n",
       "      <td>2021-01-17</td>\n",
       "      <td>2021-01-17</td>\n",
       "      <td>2021-01-06</td>\n",
       "      <td>1.0</td>\n",
       "      <td>1.0</td>\n",
       "      <td>39.99</td>\n",
       "      <td>81.98</td>\n",
       "      <td>[AKTIFCOCUK, COCUK]</td>\n",
       "    </tr>\n",
       "    <tr>\n",
       "      <th>4</th>\n",
       "      <td>d6ea1074-f1f5-11e9-9346-000d3a38a36f</td>\n",
       "      <td>Desktop</td>\n",
       "      <td>Desktop</td>\n",
       "      <td>2019-08-03</td>\n",
       "      <td>2021-03-07</td>\n",
       "      <td>2021-03-07</td>\n",
       "      <td>2019-08-03</td>\n",
       "      <td>1.0</td>\n",
       "      <td>1.0</td>\n",
       "      <td>49.99</td>\n",
       "      <td>159.99</td>\n",
       "      <td>[AKTIFSPOR]</td>\n",
       "    </tr>\n",
       "  </tbody>\n",
       "</table>\n",
       "</div>"
      ]
     },
     "execution_count": 4,
     "metadata": {},
     "output_type": "execute_result"
    }
   ],
   "execution_count": 4
  },
  {
   "metadata": {},
   "cell_type": "markdown",
   "source": "# Tarih değişkenlerini date formatına çevir\n",
   "id": "700cebf8d341ff61"
  },
  {
   "metadata": {
    "ExecuteTime": {
     "end_time": "2024-08-14T08:47:51.044116Z",
     "start_time": "2024-08-14T08:47:51.027270Z"
    }
   },
   "cell_type": "code",
   "source": [
    "date_columns = [\"first_order_date\", \"last_order_date\", \"last_order_date_online\", \"last_order_date_offline\"]\n",
    "for col in date_columns:\n",
    "    df[col] = pd.to_datetime(df[col])"
   ],
   "id": "3868af90b37e9fb0",
   "outputs": [],
   "execution_count": 5
  },
  {
   "metadata": {},
   "cell_type": "markdown",
   "source": "# Aykırı Değerleri Baskılamak için Fonksiyonları Tanımla",
   "id": "f48a0a67d2d2081c"
  },
  {
   "metadata": {
    "ExecuteTime": {
     "end_time": "2024-08-14T08:48:11.133129Z",
     "start_time": "2024-08-14T08:48:11.129475Z"
    }
   },
   "cell_type": "code",
   "source": [
    "def outlier_thresholds(dataframe, variable):\n",
    "    quartile1 = dataframe[variable].quantile(0.01)\n",
    "    quartile3 = dataframe[variable].quantile(0.99)\n",
    "    interquartile_range = quartile3 - quartile1\n",
    "    up_limit = quartile3 + 1.5 * interquartile_range\n",
    "    low_limit = quartile1 - 1.5 * interquartile_range\n",
    "    return low_limit, up_limit\n",
    "\n",
    "def replace_with_thresholds(dataframe, variable):\n",
    "    low_limit, up_limit = outlier_thresholds(dataframe, variable)\n",
    "    dataframe.loc[(dataframe[variable] < low_limit), variable] = low_limit\n",
    "    dataframe.loc[(dataframe[variable] > up_limit), variable] = up_limit"
   ],
   "id": "29744911b398d68f",
   "outputs": [],
   "execution_count": 8
  },
  {
   "metadata": {},
   "cell_type": "markdown",
   "source": "# Belirtilen Değişkenlerin Aykırı Değerlerini Baskıla\n",
   "id": "e7a09ab79167ba89"
  },
  {
   "metadata": {
    "ExecuteTime": {
     "end_time": "2024-08-14T08:48:14.802207Z",
     "start_time": "2024-08-14T08:48:14.788108Z"
    }
   },
   "cell_type": "code",
   "source": [
    "variables = [\"order_num_total_ever_online\", \"order_num_total_ever_offline\", \n",
    "             \"customer_value_total_ever_offline\", \"customer_value_total_ever_online\"]\n",
    "\n",
    "for variable in variables:\n",
    "    replace_with_thresholds(df, variable)"
   ],
   "id": "b929474c25ad325b",
   "outputs": [],
   "execution_count": 9
  },
  {
   "metadata": {},
   "cell_type": "markdown",
   "source": "# Toplam Alışveriş Sayısı ve Harcaması için Yeni Değişkenler Oluştur\n",
   "id": "fb32511a753b1d72"
  },
  {
   "metadata": {
    "ExecuteTime": {
     "end_time": "2024-08-14T08:48:18.124479Z",
     "start_time": "2024-08-14T08:48:18.119824Z"
    }
   },
   "cell_type": "code",
   "source": [
    "df[\"total_order\"] = df[\"order_num_total_ever_online\"] + df[\"order_num_total_ever_offline\"]\n",
    "df[\"total_value\"] = df[\"customer_value_total_ever_online\"] + df[\"customer_value_total_ever_offline\"]"
   ],
   "id": "c5bf681a3c97975e",
   "outputs": [],
   "execution_count": 10
  },
  {
   "metadata": {},
   "cell_type": "markdown",
   "source": "# Analiz tarihi",
   "id": "98ddbb74a2fe10b4"
  },
  {
   "metadata": {
    "ExecuteTime": {
     "end_time": "2024-08-14T08:48:21.023580Z",
     "start_time": "2024-08-14T08:48:21.020208Z"
    }
   },
   "cell_type": "code",
   "source": [
    "analysis_date = df[\"last_order_date\"].max() + pd.DateOffset(days=2)\n",
    "print(f'Analiz tarihi: {analysis_date}')"
   ],
   "id": "bc36d463133098e4",
   "outputs": [
    {
     "name": "stdout",
     "output_type": "stream",
     "text": [
      "Analiz tarihi: 2021-06-01 00:00:00\n"
     ]
    }
   ],
   "execution_count": 11
  },
  {
   "metadata": {},
   "cell_type": "markdown",
   "source": "# Recency ve Tenure hesaplama (haftalık olarak)",
   "id": "fa5903d0594d35dd"
  },
  {
   "metadata": {
    "ExecuteTime": {
     "end_time": "2024-08-14T12:23:41.500220Z",
     "start_time": "2024-08-14T12:23:41.462313Z"
    }
   },
   "cell_type": "code",
   "source": [
    "df[\"recency_cltv_weekly\"] = (df[\"last_order_date\"] - df[\"first_order_date\"]).dt.days / 7\n",
    "df[\"T_weekly\"] = (analysis_date - df[\"first_order_date\"]).dt.days / 7"
   ],
   "id": "78e15ea053b24046",
   "outputs": [],
   "execution_count": 18
  },
  {
   "metadata": {},
   "cell_type": "markdown",
   "source": "# Frequency ve Monetary hesaplama",
   "id": "345d3f95ebc86ce"
  },
  {
   "metadata": {
    "ExecuteTime": {
     "end_time": "2024-08-14T12:23:45.009884Z",
     "start_time": "2024-08-14T12:23:45.004874Z"
    }
   },
   "cell_type": "code",
   "source": [
    "df[\"frequency\"] = df[\"total_order\"]\n",
    "df[\"monetary_cltv_avg\"] = df[\"total_value\"] / df[\"total_order\"]"
   ],
   "id": "f32cc946a71d1ba3",
   "outputs": [],
   "execution_count": 19
  },
  {
   "metadata": {},
   "cell_type": "markdown",
   "source": "# CLTV dataframe'i oluşturma",
   "id": "e4b2f4b7db9bd44b"
  },
  {
   "metadata": {
    "ExecuteTime": {
     "end_time": "2024-08-14T12:23:47.972848Z",
     "start_time": "2024-08-14T12:23:47.965317Z"
    }
   },
   "cell_type": "code",
   "source": [
    "cltv_df = df.loc[:, [\"master_id\", \"recency_cltv_weekly\", \"T_weekly\", \"frequency\", \"monetary_cltv_avg\"]]\n",
    "cltv_df.columns = [\"customer_id\", \"recency_cltv_weekly\", \"T_weekly\", \"frequency\", \"monetary_cltv_avg\"]"
   ],
   "id": "b6e395cc10955589",
   "outputs": [],
   "execution_count": 20
  },
  {
   "metadata": {},
   "cell_type": "markdown",
   "source": "# Frequency değerlerinin integer olması gerekiyor\n",
   "id": "b8a5c01705df37a"
  },
  {
   "metadata": {
    "ExecuteTime": {
     "end_time": "2024-08-14T12:23:52.893723Z",
     "start_time": "2024-08-14T12:23:52.888775Z"
    }
   },
   "cell_type": "code",
   "source": "cltv_df[\"frequency\"] = cltv_df[\"frequency\"].astype(int)",
   "id": "c06c5ffd9067c960",
   "outputs": [],
   "execution_count": 21
  },
  {
   "metadata": {},
   "cell_type": "markdown",
   "source": "# Eksik ve 0 değerleri kontrol et",
   "id": "74f010100b3178f8"
  },
  {
   "metadata": {
    "ExecuteTime": {
     "end_time": "2024-08-14T12:31:57.501038Z",
     "start_time": "2024-08-14T12:31:57.491741Z"
    }
   },
   "cell_type": "code",
   "source": [
    "cltv_df.isnull().sum()\n",
    "(cltv_df == 0).sum()\n",
    "\n",
    "cltv_df = cltv_df.dropna()\n",
    "cltv_df = cltv_df[(cltv_df[['frequency', 'monetary_cltv_avg', 'recency_cltv_weekly']] != 0).all(axis=1)]\n"
   ],
   "id": "ad864c1fcec8c555",
   "outputs": [],
   "execution_count": 36
  },
  {
   "metadata": {},
   "cell_type": "markdown",
   "source": "# BG/NBD modelini fit et",
   "id": "dbc105b774c10b06"
  },
  {
   "metadata": {
    "ExecuteTime": {
     "end_time": "2024-08-14T12:32:00.202230Z",
     "start_time": "2024-08-14T12:31:59.775944Z"
    }
   },
   "cell_type": "code",
   "source": [
    "bgf = BetaGeoFitter(penalizer_coef=0.001)\n",
    "bgf.fit(cltv_df['frequency'], cltv_df['recency_cltv_weekly'], cltv_df['T_weekly'])"
   ],
   "id": "290f326e1a773344",
   "outputs": [
    {
     "data": {
      "text/plain": [
       "<lifetimes.BetaGeoFitter: fitted with 19920 subjects, a: 0.00, alpha: 76.26, b: 0.00, r: 3.66>"
      ]
     },
     "execution_count": 37,
     "metadata": {},
     "output_type": "execute_result"
    }
   ],
   "execution_count": 37
  },
  {
   "metadata": {},
   "cell_type": "markdown",
   "source": "# 3 ay içerisinde beklenen satın almalar\n",
   "id": "aa8010eaf934dfbb"
  },
  {
   "metadata": {
    "ExecuteTime": {
     "end_time": "2024-08-14T12:24:05.022272Z",
     "start_time": "2024-08-14T12:24:05.008276Z"
    }
   },
   "cell_type": "code",
   "source": "cltv_df['exp_sales_3_month'] = bgf.predict(3*4, cltv_df['frequency'], cltv_df['recency_cltv_weekly'], cltv_df['T_weekly'])",
   "id": "3fec1285d8be53c0",
   "outputs": [],
   "execution_count": 23
  },
  {
   "metadata": {},
   "cell_type": "markdown",
   "source": "# 6 ay içerisinde beklenen satın almalar\n",
   "id": "9994d2079e7dbcf7"
  },
  {
   "metadata": {
    "ExecuteTime": {
     "end_time": "2024-08-14T12:24:06.807456Z",
     "start_time": "2024-08-14T12:24:06.795491Z"
    }
   },
   "cell_type": "code",
   "source": "cltv_df['exp_sales_6_month'] = bgf.predict(6*4, cltv_df['frequency'], cltv_df['recency_cltv_weekly'], cltv_df['T_weekly'])",
   "id": "75360b4c9e778f42",
   "outputs": [],
   "execution_count": 24
  },
  {
   "metadata": {},
   "cell_type": "markdown",
   "source": "# Gamma-Gamma modelini fit et\n",
   "id": "9a6369e9b3ed772a"
  },
  {
   "metadata": {
    "ExecuteTime": {
     "end_time": "2024-08-14T12:24:10.784750Z",
     "start_time": "2024-08-14T12:24:10.689879Z"
    }
   },
   "cell_type": "code",
   "source": [
    "ggf = GammaGammaFitter(penalizer_coef=0.01)\n",
    "ggf.fit(cltv_df['frequency'], cltv_df['monetary_cltv_avg'])"
   ],
   "id": "b76d2ba9f4bc8ec1",
   "outputs": [
    {
     "data": {
      "text/plain": [
       "<lifetimes.GammaGammaFitter: fitted with 19945 subjects, p: 4.15, q: 0.47, v: 4.08>"
      ]
     },
     "execution_count": 25,
     "metadata": {},
     "output_type": "execute_result"
    }
   ],
   "execution_count": 25
  },
  {
   "metadata": {},
   "cell_type": "markdown",
   "source": "# Tahmin edilen ortalama değeri dataframe'e ekle\n",
   "id": "b8e9370560e622ec"
  },
  {
   "metadata": {
    "ExecuteTime": {
     "end_time": "2024-08-14T12:24:12.760291Z",
     "start_time": "2024-08-14T12:24:12.755506Z"
    }
   },
   "cell_type": "code",
   "source": "cltv_df['exp_average_value'] = ggf.conditional_expected_average_profit(cltv_df['frequency'], cltv_df['monetary_cltv_avg'])",
   "id": "e4b879eda52ebe37",
   "outputs": [],
   "execution_count": 26
  },
  {
   "metadata": {},
   "cell_type": "markdown",
   "source": "# 6 aylık CLTV hesapla\n",
   "id": "b41f511b337d9587"
  },
  {
   "metadata": {
    "ExecuteTime": {
     "end_time": "2024-08-14T12:24:14.675815Z",
     "start_time": "2024-08-14T12:24:14.581970Z"
    }
   },
   "cell_type": "code",
   "source": [
    "cltv_df['cltv'] = ggf.customer_lifetime_value(\n",
    "    bgf, \n",
    "    cltv_df['frequency'], \n",
    "    cltv_df['recency_cltv_weekly'], \n",
    "    cltv_df['T_weekly'], \n",
    "    cltv_df['monetary_cltv_avg'], \n",
    "    time=6,  # 6 aylık\n",
    "    freq='W',  # Haftalık\n",
    "    discount_rate=0.01  # İskonto oranı\n",
    ")"
   ],
   "id": "8c7d2b88dae63e50",
   "outputs": [],
   "execution_count": 27
  },
  {
   "metadata": {},
   "cell_type": "markdown",
   "source": "# Müşterileri CLTV'ye göre segmentlere ayır\n",
   "id": "71ed9adf363b24cd"
  },
  {
   "metadata": {
    "ExecuteTime": {
     "end_time": "2024-08-14T12:24:16.690065Z",
     "start_time": "2024-08-14T12:24:16.677701Z"
    }
   },
   "cell_type": "code",
   "source": "cltv_df['cltv_segment'] = pd.qcut(cltv_df['cltv'], 4, labels=[\"D\", \"C\", \"B\", \"A\"])",
   "id": "d32bac0098a6368c",
   "outputs": [],
   "execution_count": 28
  },
  {
   "metadata": {},
   "cell_type": "markdown",
   "source": "# DataFrame'i görüntüle\n",
   "id": "8627b8c14833a13f"
  },
  {
   "metadata": {
    "ExecuteTime": {
     "end_time": "2024-08-14T12:24:19.400987Z",
     "start_time": "2024-08-14T12:24:19.395385Z"
    }
   },
   "cell_type": "code",
   "source": "print(cltv_df.head())",
   "id": "f85aebd914380308",
   "outputs": [
    {
     "name": "stdout",
     "output_type": "stream",
     "text": [
      "                            customer_id  recency_cltv_weekly    T_weekly  \\\n",
      "0  cc294636-19f0-11eb-8d74-000d3a38a36f            17.000000   30.571429   \n",
      "1  f431bd5a-ab7b-11e9-a2fc-000d3a38a36f           209.857143  224.857143   \n",
      "2  69b69676-1a40-11ea-941b-000d3a38a36f            52.285714   78.857143   \n",
      "3  1854e56c-491f-11eb-806e-000d3a38a36f             1.571429   20.857143   \n",
      "4  d6ea1074-f1f5-11e9-9346-000d3a38a36f            83.142857   95.428571   \n",
      "\n",
      "   frequency  monetary_cltv_avg  exp_sales_3_month  exp_sales_6_month  \\\n",
      "0          5         187.874000           0.973927           1.947853   \n",
      "1         21          95.883333           0.983161           1.966323   \n",
      "2          5         117.064000           0.670586           1.341172   \n",
      "3          2          60.985000           0.700412           1.400824   \n",
      "4          2         104.990000           0.396039           0.792077   \n",
      "\n",
      "   exp_average_value        cltv cltv_segment  \n",
      "0         193.632662  395.733200            A  \n",
      "1          96.665046  199.430689            B  \n",
      "2         120.967609  170.224170            B  \n",
      "3          67.320131   98.945504            D  \n",
      "4         114.325083   95.011637            D  \n"
     ]
    }
   ],
   "execution_count": 29
  },
  {
   "metadata": {},
   "cell_type": "markdown",
   "source": "# CLTV değeri en yüksek 20 kişiyi gözlemle\n",
   "id": "7babe1d2739366db"
  },
  {
   "metadata": {
    "ExecuteTime": {
     "end_time": "2024-08-14T12:24:22.956681Z",
     "start_time": "2024-08-14T12:24:22.945428Z"
    }
   },
   "cell_type": "code",
   "source": [
    "top_20_cltv = cltv_df.sort_values(by='cltv', ascending=False).head(20)\n",
    "print(top_20_cltv)"
   ],
   "id": "fcb3471dc024ad63",
   "outputs": [
    {
     "name": "stdout",
     "output_type": "stream",
     "text": [
      "                                customer_id  recency_cltv_weekly    T_weekly  \\\n",
      "9055   47a642fe-975b-11eb-8c2a-000d3a38a36f             2.857143    7.857143   \n",
      "13880  7137a5c0-7aad-11ea-8f20-000d3a38a36f             6.142857   13.142857   \n",
      "17323  f59053e2-a503-11e9-a2fc-000d3a38a36f            51.714286  101.000000   \n",
      "12438  625f40a2-5bd2-11ea-98b0-000d3a38a36f            74.285714   74.571429   \n",
      "8868   9ce6e520-89b0-11ea-a6e7-000d3a38a36f             3.428571   34.428571   \n",
      "7330   a4d534a2-5b1b-11eb-8dbd-000d3a38a36f            62.714286   67.285714   \n",
      "6402   851de3b4-8f0c-11eb-8cb8-000d3a38a36f             8.285714    9.428571   \n",
      "6666   53fe00d4-7b7a-11eb-960b-000d3a38a36f             9.714286   13.000000   \n",
      "19538  55d54d9e-8ac7-11ea-8ec0-000d3a38a36f            52.571429   58.714286   \n",
      "14858  031b2954-6d28-11eb-99c4-000d3a38a36f            14.857143   15.571429   \n",
      "17963  8fd88976-6708-11ea-9d38-000d3a38a36f            50.285714   63.285714   \n",
      "15516  9083981a-f59e-11e9-841e-000d3a38a36f            63.571429   83.857143   \n",
      "6717   40b4f318-9dfb-11eb-9c47-000d3a38a36f            27.142857   33.857143   \n",
      "4157   7eed6468-4540-11ea-acaf-000d3a38a36f            89.142857   90.000000   \n",
      "4735   dbabb58e-6312-11ea-a6dc-000d3a38a36f            61.285714   64.285714   \n",
      "11694  90f1b7f2-bbad-11ea-a0c9-000d3a38a36f            47.285714   48.000000   \n",
      "11179  d2e74a36-3228-11eb-860c-000d3a38a36f             1.142857   26.285714   \n",
      "1853   f02473b0-43c3-11eb-806e-000d3a38a36f            17.285714   23.142857   \n",
      "5775   e31293ac-d63a-11e9-93bc-000d3a38a36f            91.714286   93.142857   \n",
      "7312   90befc98-925a-11eb-b584-000d3a38a36f             4.142857    8.857143   \n",
      "\n",
      "       frequency  monetary_cltv_avg  exp_sales_3_month  exp_sales_6_month  \\\n",
      "9055           4        1401.770500           1.094385           2.188769   \n",
      "13880         11         758.043727           1.970108           3.940216   \n",
      "17323          7        1106.467143           0.722238           1.444476   \n",
      "12438         16         501.845063           1.565309           3.130618   \n",
      "8868           8         601.226250           1.265456           2.530912   \n",
      "7330          52         164.632781           4.656138           9.312276   \n",
      "6402           2         862.690000           0.793924           1.587847   \n",
      "6666          17         259.865294           2.780689           5.561378   \n",
      "19538         31         228.530000           3.083779           6.167558   \n",
      "14858          3         743.586667           0.871564           1.743128   \n",
      "17963          7         694.198571           0.917556           1.835112   \n",
      "15516          4        1090.360000           0.574648           1.149296   \n",
      "6717           7         544.700000           1.162966           2.325933   \n",
      "4157          27         289.764074           2.214331           4.428662   \n",
      "4735          13         442.115385           1.423632           2.847264   \n",
      "11694          6         647.345000           0.933868           1.867736   \n",
      "11179          3         750.570000           0.780423           1.560845   \n",
      "1853           2         835.875000           0.684292           1.368584   \n",
      "5775           8         727.086250           0.826627           1.653255   \n",
      "7312           6         431.328333           1.363769           2.727538   \n",
      "\n",
      "       exp_average_value         cltv cltv_segment  \n",
      "9055         1449.029832  3327.706684            A  \n",
      "13880         767.318354  3172.219730            A  \n",
      "17323        1127.611453  1708.981954            A  \n",
      "12438         506.137733  1662.518458            A  \n",
      "8868          611.492582  1623.812594            A  \n",
      "7330          165.116500  1613.295835            A  \n",
      "6402          923.679749  1538.855547            A  \n",
      "6666          262.072900  1529.227956            A  \n",
      "19538         229.606942  1485.819136            A  \n",
      "14858         778.050252  1422.999457            A  \n",
      "17963         707.685589  1362.607131            A  \n",
      "15516        1127.354339  1359.439509            A  \n",
      "6717          555.410298  1355.435161            A  \n",
      "4157          291.292184  1353.533638            A  \n",
      "4735          446.816207  1334.825009            A  \n",
      "11694         662.110284  1297.518491            A  \n",
      "11179         785.343916  1286.137648            A  \n",
      "1853          895.036691  1285.227365            A  \n",
      "5775          739.393303  1282.575725            A  \n",
      "7312          441.398185  1263.191117            A  \n"
     ]
    }
   ],
   "execution_count": 30
  },
  {
   "metadata": {},
   "cell_type": "markdown",
   "source": "# Aksiyon önerileri\n",
   "id": "19e24c0717291748"
  },
  {
   "metadata": {
    "ExecuteTime": {
     "end_time": "2024-08-14T12:24:30.019315Z",
     "start_time": "2024-08-14T12:24:30.014859Z"
    }
   },
   "cell_type": "code",
   "source": [
    "recommendations = {\n",
    "    \"Group A\": [\n",
    "        \"Sadakat Programları: En değerli müşterilerinize özel sadakat programları sunun. Özel indirimler, erken erişim fırsatları ve ücretsiz kargo gibi avantajlar sağlayarak sadakati artırın.\",\n",
    "        \"Kişiselleştirilmiş Pazarlama: Müşterilerin önceki alışveriş alışkanlıklarına dayanarak kişiselleştirilmiş pazarlama kampanyaları oluşturun. Onlara özel ürün önerileri ve kampanyalar sunarak müşteri memnuniyetini artırın.\"\n",
    "    ],\n",
    "    \"Group B\": [\n",
    "        \"Çapraz Satış Stratejileri: Bu gruptaki müşterilere ilgili ürünleri sunarak çapraz satış fırsatlarını değerlendirin. Örneğin, bir ayakkabı satın alan müşteriye uyumlu çorap veya bakım ürünleri önerin.\",\n",
    "        \"Müşteri Geri Bildirimi: Müşteri geri bildirimlerini toplamak ve değerlendirmek için anketler düzenleyin. Müşteri memnuniyetini artırmak için geri bildirimlere dayalı iyileştirmeler yapın.\"\n",
    "    ]\n",
    "}"
   ],
   "id": "6421c5aa6b4f0fed",
   "outputs": [],
   "execution_count": 31
  },
  {
   "metadata": {},
   "cell_type": "markdown",
   "source": "# Önerileri görüntüle\n",
   "id": "ab9f232632121b30"
  },
  {
   "metadata": {
    "ExecuteTime": {
     "end_time": "2024-08-14T12:24:31.878836Z",
     "start_time": "2024-08-14T12:24:31.875888Z"
    }
   },
   "cell_type": "code",
   "source": "print(recommendations)",
   "id": "59f2c41416fe6437",
   "outputs": [
    {
     "name": "stdout",
     "output_type": "stream",
     "text": [
      "{'Group A': ['Sadakat Programları: En değerli müşterilerinize özel sadakat programları sunun. Özel indirimler, erken erişim fırsatları ve ücretsiz kargo gibi avantajlar sağlayarak sadakati artırın.', 'Kişiselleştirilmiş Pazarlama: Müşterilerin önceki alışveriş alışkanlıklarına dayanarak kişiselleştirilmiş pazarlama kampanyaları oluşturun. Onlara özel ürün önerileri ve kampanyalar sunarak müşteri memnuniyetini artırın.'], 'Group B': ['Çapraz Satış Stratejileri: Bu gruptaki müşterilere ilgili ürünleri sunarak çapraz satış fırsatlarını değerlendirin. Örneğin, bir ayakkabı satın alan müşteriye uyumlu çorap veya bakım ürünleri önerin.', 'Müşteri Geri Bildirimi: Müşteri geri bildirimlerini toplamak ve değerlendirmek için anketler düzenleyin. Müşteri memnuniyetini artırmak için geri bildirimlere dayalı iyileştirmeler yapın.']}\n"
     ]
    }
   ],
   "execution_count": 32
  },
  {
   "metadata": {},
   "cell_type": "code",
   "outputs": [],
   "execution_count": null,
   "source": "",
   "id": "c1c548b00d92945e"
  }
 ],
 "metadata": {
  "kernelspec": {
   "display_name": "Python 3",
   "language": "python",
   "name": "python3"
  },
  "language_info": {
   "codemirror_mode": {
    "name": "ipython",
    "version": 2
   },
   "file_extension": ".py",
   "mimetype": "text/x-python",
   "name": "python",
   "nbconvert_exporter": "python",
   "pygments_lexer": "ipython2",
   "version": "2.7.6"
  }
 },
 "nbformat": 4,
 "nbformat_minor": 5
}
