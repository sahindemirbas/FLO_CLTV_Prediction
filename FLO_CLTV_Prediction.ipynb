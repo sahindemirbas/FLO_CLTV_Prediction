{
 "cells": [
  {
   "metadata": {},
   "cell_type": "markdown",
   "source": "# Gerekli kütüphaneleri yükleyin",
   "id": "eaaf1b55efa606e4"
  },
  {
   "metadata": {
    "ExecuteTime": {
     "end_time": "2024-08-14T08:43:13.525278Z",
     "start_time": "2024-08-14T08:43:12.374054Z"
    }
   },
   "cell_type": "code",
   "source": [
    "import pandas as pd\n",
    "from lifetimes import BetaGeoFitter, GammaGammaFitter"
   ],
   "id": "32d370897d57c82d",
   "outputs": [],
   "execution_count": 1
  },
  {
   "metadata": {},
   "cell_type": "markdown",
   "source": "# Veri setini oku\n",
   "id": "e8dcf801ecec06b6"
  },
  {
   "metadata": {
    "ExecuteTime": {
     "end_time": "2024-08-14T08:41:36.817771Z",
     "start_time": "2024-08-14T08:41:35.859550Z"
    }
   },
   "cell_type": "code",
   "source": [
    "file_path = '/mnt/data/flo_data_20k.csv'\n",
    "df = pd.read_csv(file_path)"
   ],
   "id": "1183c4de4bbf3b57",
   "outputs": [
    {
     "ename": "FileNotFoundError",
     "evalue": "[Errno 2] No such file or directory: 'GitHub/FLO_CLTV_Prediction/flo_data_20k.csv'",
     "output_type": "error",
     "traceback": [
      "\u001B[0;31m---------------------------------------------------------------------------\u001B[0m",
      "\u001B[0;31mFileNotFoundError\u001B[0m                         Traceback (most recent call last)",
      "Cell \u001B[0;32mIn[2], line 2\u001B[0m\n\u001B[1;32m      1\u001B[0m file_path \u001B[38;5;241m=\u001B[39m \u001B[38;5;124m'\u001B[39m\u001B[38;5;124mGitHub/FLO_CLTV_Prediction/flo_data_20k.csv\u001B[39m\u001B[38;5;124m'\u001B[39m\n\u001B[0;32m----> 2\u001B[0m df \u001B[38;5;241m=\u001B[39m pd\u001B[38;5;241m.\u001B[39mread_csv(file_path)\n",
      "File \u001B[0;32m~/miniconda3/lib/python3.12/site-packages/pandas/io/parsers/readers.py:1026\u001B[0m, in \u001B[0;36mread_csv\u001B[0;34m(filepath_or_buffer, sep, delimiter, header, names, index_col, usecols, dtype, engine, converters, true_values, false_values, skipinitialspace, skiprows, skipfooter, nrows, na_values, keep_default_na, na_filter, verbose, skip_blank_lines, parse_dates, infer_datetime_format, keep_date_col, date_parser, date_format, dayfirst, cache_dates, iterator, chunksize, compression, thousands, decimal, lineterminator, quotechar, quoting, doublequote, escapechar, comment, encoding, encoding_errors, dialect, on_bad_lines, delim_whitespace, low_memory, memory_map, float_precision, storage_options, dtype_backend)\u001B[0m\n\u001B[1;32m   1013\u001B[0m kwds_defaults \u001B[38;5;241m=\u001B[39m _refine_defaults_read(\n\u001B[1;32m   1014\u001B[0m     dialect,\n\u001B[1;32m   1015\u001B[0m     delimiter,\n\u001B[0;32m   (...)\u001B[0m\n\u001B[1;32m   1022\u001B[0m     dtype_backend\u001B[38;5;241m=\u001B[39mdtype_backend,\n\u001B[1;32m   1023\u001B[0m )\n\u001B[1;32m   1024\u001B[0m kwds\u001B[38;5;241m.\u001B[39mupdate(kwds_defaults)\n\u001B[0;32m-> 1026\u001B[0m \u001B[38;5;28;01mreturn\u001B[39;00m _read(filepath_or_buffer, kwds)\n",
      "File \u001B[0;32m~/miniconda3/lib/python3.12/site-packages/pandas/io/parsers/readers.py:620\u001B[0m, in \u001B[0;36m_read\u001B[0;34m(filepath_or_buffer, kwds)\u001B[0m\n\u001B[1;32m    617\u001B[0m _validate_names(kwds\u001B[38;5;241m.\u001B[39mget(\u001B[38;5;124m\"\u001B[39m\u001B[38;5;124mnames\u001B[39m\u001B[38;5;124m\"\u001B[39m, \u001B[38;5;28;01mNone\u001B[39;00m))\n\u001B[1;32m    619\u001B[0m \u001B[38;5;66;03m# Create the parser.\u001B[39;00m\n\u001B[0;32m--> 620\u001B[0m parser \u001B[38;5;241m=\u001B[39m TextFileReader(filepath_or_buffer, \u001B[38;5;241m*\u001B[39m\u001B[38;5;241m*\u001B[39mkwds)\n\u001B[1;32m    622\u001B[0m \u001B[38;5;28;01mif\u001B[39;00m chunksize \u001B[38;5;129;01mor\u001B[39;00m iterator:\n\u001B[1;32m    623\u001B[0m     \u001B[38;5;28;01mreturn\u001B[39;00m parser\n",
      "File \u001B[0;32m~/miniconda3/lib/python3.12/site-packages/pandas/io/parsers/readers.py:1620\u001B[0m, in \u001B[0;36mTextFileReader.__init__\u001B[0;34m(self, f, engine, **kwds)\u001B[0m\n\u001B[1;32m   1617\u001B[0m     \u001B[38;5;28mself\u001B[39m\u001B[38;5;241m.\u001B[39moptions[\u001B[38;5;124m\"\u001B[39m\u001B[38;5;124mhas_index_names\u001B[39m\u001B[38;5;124m\"\u001B[39m] \u001B[38;5;241m=\u001B[39m kwds[\u001B[38;5;124m\"\u001B[39m\u001B[38;5;124mhas_index_names\u001B[39m\u001B[38;5;124m\"\u001B[39m]\n\u001B[1;32m   1619\u001B[0m \u001B[38;5;28mself\u001B[39m\u001B[38;5;241m.\u001B[39mhandles: IOHandles \u001B[38;5;241m|\u001B[39m \u001B[38;5;28;01mNone\u001B[39;00m \u001B[38;5;241m=\u001B[39m \u001B[38;5;28;01mNone\u001B[39;00m\n\u001B[0;32m-> 1620\u001B[0m \u001B[38;5;28mself\u001B[39m\u001B[38;5;241m.\u001B[39m_engine \u001B[38;5;241m=\u001B[39m \u001B[38;5;28mself\u001B[39m\u001B[38;5;241m.\u001B[39m_make_engine(f, \u001B[38;5;28mself\u001B[39m\u001B[38;5;241m.\u001B[39mengine)\n",
      "File \u001B[0;32m~/miniconda3/lib/python3.12/site-packages/pandas/io/parsers/readers.py:1880\u001B[0m, in \u001B[0;36mTextFileReader._make_engine\u001B[0;34m(self, f, engine)\u001B[0m\n\u001B[1;32m   1878\u001B[0m     \u001B[38;5;28;01mif\u001B[39;00m \u001B[38;5;124m\"\u001B[39m\u001B[38;5;124mb\u001B[39m\u001B[38;5;124m\"\u001B[39m \u001B[38;5;129;01mnot\u001B[39;00m \u001B[38;5;129;01min\u001B[39;00m mode:\n\u001B[1;32m   1879\u001B[0m         mode \u001B[38;5;241m+\u001B[39m\u001B[38;5;241m=\u001B[39m \u001B[38;5;124m\"\u001B[39m\u001B[38;5;124mb\u001B[39m\u001B[38;5;124m\"\u001B[39m\n\u001B[0;32m-> 1880\u001B[0m \u001B[38;5;28mself\u001B[39m\u001B[38;5;241m.\u001B[39mhandles \u001B[38;5;241m=\u001B[39m get_handle(\n\u001B[1;32m   1881\u001B[0m     f,\n\u001B[1;32m   1882\u001B[0m     mode,\n\u001B[1;32m   1883\u001B[0m     encoding\u001B[38;5;241m=\u001B[39m\u001B[38;5;28mself\u001B[39m\u001B[38;5;241m.\u001B[39moptions\u001B[38;5;241m.\u001B[39mget(\u001B[38;5;124m\"\u001B[39m\u001B[38;5;124mencoding\u001B[39m\u001B[38;5;124m\"\u001B[39m, \u001B[38;5;28;01mNone\u001B[39;00m),\n\u001B[1;32m   1884\u001B[0m     compression\u001B[38;5;241m=\u001B[39m\u001B[38;5;28mself\u001B[39m\u001B[38;5;241m.\u001B[39moptions\u001B[38;5;241m.\u001B[39mget(\u001B[38;5;124m\"\u001B[39m\u001B[38;5;124mcompression\u001B[39m\u001B[38;5;124m\"\u001B[39m, \u001B[38;5;28;01mNone\u001B[39;00m),\n\u001B[1;32m   1885\u001B[0m     memory_map\u001B[38;5;241m=\u001B[39m\u001B[38;5;28mself\u001B[39m\u001B[38;5;241m.\u001B[39moptions\u001B[38;5;241m.\u001B[39mget(\u001B[38;5;124m\"\u001B[39m\u001B[38;5;124mmemory_map\u001B[39m\u001B[38;5;124m\"\u001B[39m, \u001B[38;5;28;01mFalse\u001B[39;00m),\n\u001B[1;32m   1886\u001B[0m     is_text\u001B[38;5;241m=\u001B[39mis_text,\n\u001B[1;32m   1887\u001B[0m     errors\u001B[38;5;241m=\u001B[39m\u001B[38;5;28mself\u001B[39m\u001B[38;5;241m.\u001B[39moptions\u001B[38;5;241m.\u001B[39mget(\u001B[38;5;124m\"\u001B[39m\u001B[38;5;124mencoding_errors\u001B[39m\u001B[38;5;124m\"\u001B[39m, \u001B[38;5;124m\"\u001B[39m\u001B[38;5;124mstrict\u001B[39m\u001B[38;5;124m\"\u001B[39m),\n\u001B[1;32m   1888\u001B[0m     storage_options\u001B[38;5;241m=\u001B[39m\u001B[38;5;28mself\u001B[39m\u001B[38;5;241m.\u001B[39moptions\u001B[38;5;241m.\u001B[39mget(\u001B[38;5;124m\"\u001B[39m\u001B[38;5;124mstorage_options\u001B[39m\u001B[38;5;124m\"\u001B[39m, \u001B[38;5;28;01mNone\u001B[39;00m),\n\u001B[1;32m   1889\u001B[0m )\n\u001B[1;32m   1890\u001B[0m \u001B[38;5;28;01massert\u001B[39;00m \u001B[38;5;28mself\u001B[39m\u001B[38;5;241m.\u001B[39mhandles \u001B[38;5;129;01mis\u001B[39;00m \u001B[38;5;129;01mnot\u001B[39;00m \u001B[38;5;28;01mNone\u001B[39;00m\n\u001B[1;32m   1891\u001B[0m f \u001B[38;5;241m=\u001B[39m \u001B[38;5;28mself\u001B[39m\u001B[38;5;241m.\u001B[39mhandles\u001B[38;5;241m.\u001B[39mhandle\n",
      "File \u001B[0;32m~/miniconda3/lib/python3.12/site-packages/pandas/io/common.py:873\u001B[0m, in \u001B[0;36mget_handle\u001B[0;34m(path_or_buf, mode, encoding, compression, memory_map, is_text, errors, storage_options)\u001B[0m\n\u001B[1;32m    868\u001B[0m \u001B[38;5;28;01melif\u001B[39;00m \u001B[38;5;28misinstance\u001B[39m(handle, \u001B[38;5;28mstr\u001B[39m):\n\u001B[1;32m    869\u001B[0m     \u001B[38;5;66;03m# Check whether the filename is to be opened in binary mode.\u001B[39;00m\n\u001B[1;32m    870\u001B[0m     \u001B[38;5;66;03m# Binary mode does not support 'encoding' and 'newline'.\u001B[39;00m\n\u001B[1;32m    871\u001B[0m     \u001B[38;5;28;01mif\u001B[39;00m ioargs\u001B[38;5;241m.\u001B[39mencoding \u001B[38;5;129;01mand\u001B[39;00m \u001B[38;5;124m\"\u001B[39m\u001B[38;5;124mb\u001B[39m\u001B[38;5;124m\"\u001B[39m \u001B[38;5;129;01mnot\u001B[39;00m \u001B[38;5;129;01min\u001B[39;00m ioargs\u001B[38;5;241m.\u001B[39mmode:\n\u001B[1;32m    872\u001B[0m         \u001B[38;5;66;03m# Encoding\u001B[39;00m\n\u001B[0;32m--> 873\u001B[0m         handle \u001B[38;5;241m=\u001B[39m \u001B[38;5;28mopen\u001B[39m(\n\u001B[1;32m    874\u001B[0m             handle,\n\u001B[1;32m    875\u001B[0m             ioargs\u001B[38;5;241m.\u001B[39mmode,\n\u001B[1;32m    876\u001B[0m             encoding\u001B[38;5;241m=\u001B[39mioargs\u001B[38;5;241m.\u001B[39mencoding,\n\u001B[1;32m    877\u001B[0m             errors\u001B[38;5;241m=\u001B[39merrors,\n\u001B[1;32m    878\u001B[0m             newline\u001B[38;5;241m=\u001B[39m\u001B[38;5;124m\"\u001B[39m\u001B[38;5;124m\"\u001B[39m,\n\u001B[1;32m    879\u001B[0m         )\n\u001B[1;32m    880\u001B[0m     \u001B[38;5;28;01melse\u001B[39;00m:\n\u001B[1;32m    881\u001B[0m         \u001B[38;5;66;03m# Binary mode\u001B[39;00m\n\u001B[1;32m    882\u001B[0m         handle \u001B[38;5;241m=\u001B[39m \u001B[38;5;28mopen\u001B[39m(handle, ioargs\u001B[38;5;241m.\u001B[39mmode)\n",
      "\u001B[0;31mFileNotFoundError\u001B[0m: [Errno 2] No such file or directory: 'GitHub/FLO_CLTV_Prediction/flo_data_20k.csv'"
     ]
    }
   ],
   "execution_count": 2
  },
  {
   "metadata": {},
   "cell_type": "markdown",
   "source": "# Tarih değişkenlerini date formatına çevir\n",
   "id": "700cebf8d341ff61"
  },
  {
   "metadata": {},
   "cell_type": "code",
   "source": [
    "date_columns = [\"first_order_date\", \"last_order_date\", \"last_order_date_online\", \"last_order_date_offline\"]\n",
    "for col in date_columns:\n",
    "    df[col] = pd.to_datetime(df[col])"
   ],
   "id": "3868af90b37e9fb0",
   "outputs": [],
   "execution_count": null
  },
  {
   "metadata": {},
   "cell_type": "markdown",
   "source": "# Eksik ve 0 değerleri kontrol et",
   "id": "da423e2d8f3e2ca1"
  },
  {
   "metadata": {},
   "cell_type": "code",
   "source": [
    "print(\"Eksik değer sayısı:\")\n",
    "print(df.isnull().sum())\n",
    "print(\"0 değer sayısı:\")\n",
    "print((df == 0).sum())"
   ],
   "id": "3ae366e52df5c69b",
   "outputs": [],
   "execution_count": null
  },
  {
   "metadata": {},
   "cell_type": "markdown",
   "source": "# Eksik ve 0 değerleri sil",
   "id": "381d67b77416f755"
  },
  {
   "metadata": {},
   "cell_type": "code",
   "source": [
    "df = df.dropna()\n",
    "df = df[(df[['order_num_total_ever_online', 'order_num_total_ever_offline', \n",
    "             'customer_value_total_ever_offline', 'customer_value_total_ever_online']] != 0).all(axis=1)]"
   ],
   "id": "ca91a464664b4dd3",
   "outputs": [],
   "execution_count": null
  },
  {
   "metadata": {},
   "cell_type": "markdown",
   "source": "# Aykırı Değerleri Baskılamak için Fonksiyonları Tanımla",
   "id": "f48a0a67d2d2081c"
  },
  {
   "metadata": {},
   "cell_type": "code",
   "source": [
    "def outlier_thresholds(dataframe, variable):\n",
    "    quartile1 = dataframe[variable].quantile(0.01)\n",
    "    quartile3 = dataframe[variable].quantile(0.99)\n",
    "    interquartile_range = quartile3 - quartile1\n",
    "    up_limit = quartile3 + 1.5 * interquartile_range\n",
    "    low_limit = quartile1 - 1.5 * interquartile_range\n",
    "    return low_limit, up_limit\n",
    "\n",
    "def replace_with_thresholds(dataframe, variable):\n",
    "    low_limit, up_limit = outlier_thresholds(dataframe, variable)\n",
    "    dataframe.loc[(dataframe[variable] < low_limit), variable] = low_limit\n",
    "    dataframe.loc[(dataframe[variable] > up_limit), variable] = up_limit"
   ],
   "id": "29744911b398d68f",
   "outputs": [],
   "execution_count": null
  },
  {
   "metadata": {},
   "cell_type": "markdown",
   "source": "# Belirtilen Değişkenlerin Aykırı Değerlerini Baskıla\n",
   "id": "e7a09ab79167ba89"
  },
  {
   "metadata": {},
   "cell_type": "code",
   "source": [
    "variables = [\"order_num_total_ever_online\", \"order_num_total_ever_offline\", \n",
    "             \"customer_value_total_ever_offline\", \"customer_value_total_ever_online\"]\n",
    "\n",
    "for variable in variables:\n",
    "    replace_with_thresholds(df, variable)"
   ],
   "id": "b929474c25ad325b",
   "outputs": [],
   "execution_count": null
  },
  {
   "metadata": {},
   "cell_type": "markdown",
   "source": "# Toplam Alışveriş Sayısı ve Harcaması için Yeni Değişkenler Oluştur\n",
   "id": "fb32511a753b1d72"
  },
  {
   "metadata": {},
   "cell_type": "code",
   "source": [
    "df[\"total_order\"] = df[\"order_num_total_ever_online\"] + df[\"order_num_total_ever_offline\"]\n",
    "df[\"total_value\"] = df[\"customer_value_total_ever_online\"] + df[\"customer_value_total_ever_offline\"]"
   ],
   "id": "c5bf681a3c97975e",
   "outputs": [],
   "execution_count": null
  },
  {
   "metadata": {},
   "cell_type": "markdown",
   "source": "# Analiz tarihi",
   "id": "98ddbb74a2fe10b4"
  },
  {
   "metadata": {},
   "cell_type": "code",
   "source": [
    "analysis_date = df[\"last_order_date\"].max() + pd.DateOffset(days=2)\n",
    "print(f'Analiz tarihi: {analysis_date}')"
   ],
   "id": "bc36d463133098e4",
   "outputs": [],
   "execution_count": null
  },
  {
   "metadata": {},
   "cell_type": "markdown",
   "source": "# Recency ve Tenure hesaplama (haftalık olarak)",
   "id": "fa5903d0594d35dd"
  },
  {
   "metadata": {},
   "cell_type": "code",
   "source": [
    "df[\"recency_cltv_weekly\"] = (df[\"last_order_date\"] - df[\"first_order_date\"]).dt.days / 7\n",
    "df[\"T_weekly\"] = (analysis_date - df[\"first_order_date\"]).dt.days / 7"
   ],
   "id": "78e15ea053b24046",
   "outputs": [],
   "execution_count": null
  },
  {
   "metadata": {},
   "cell_type": "markdown",
   "source": "# Frequency ve Monetary hesaplama",
   "id": "345d3f95ebc86ce"
  },
  {
   "metadata": {},
   "cell_type": "code",
   "source": [
    "df[\"frequency\"] = df[\"total_order\"]\n",
    "df[\"monetary_cltv_avg\"] = df[\"total_value\"] / df[\"total_order\"]"
   ],
   "id": "f32cc946a71d1ba3",
   "outputs": [],
   "execution_count": null
  },
  {
   "metadata": {},
   "cell_type": "markdown",
   "source": "# CLTV dataframe'i oluşturma",
   "id": "e4b2f4b7db9bd44b"
  },
  {
   "metadata": {},
   "cell_type": "code",
   "source": [
    "cltv_df = df.loc[:, [\"master_id\", \"recency_cltv_weekly\", \"T_weekly\", \"frequency\", \"monetary_cltv_avg\"]]\n",
    "cltv_df.columns = [\"customer_id\", \"recency_cltv_weekly\", \"T_weekly\", \"frequency\", \"monetary_cltv_avg\"]"
   ],
   "id": "b6e395cc10955589",
   "outputs": [],
   "execution_count": null
  },
  {
   "metadata": {},
   "cell_type": "markdown",
   "source": "# Frequency değerlerinin integer olması gerekiyor\n",
   "id": "b8a5c01705df37a"
  },
  {
   "metadata": {},
   "cell_type": "code",
   "source": "cltv_df[\"frequency\"] = cltv_df[\"frequency\"].astype(int)",
   "id": "c06c5ffd9067c960",
   "outputs": [],
   "execution_count": null
  },
  {
   "metadata": {},
   "cell_type": "markdown",
   "source": "# BG/NBD modelini fit et",
   "id": "dbc105b774c10b06"
  },
  {
   "metadata": {},
   "cell_type": "code",
   "source": [
    "bgf = BetaGeoFitter(penalizer_coef=0.001)\n",
    "bgf.fit(cltv_df['frequency'], cltv_df['recency_cltv_weekly'], cltv_df['T_weekly'])"
   ],
   "id": "290f326e1a773344",
   "outputs": [],
   "execution_count": null
  },
  {
   "metadata": {},
   "cell_type": "markdown",
   "source": "# 3 ay içerisinde beklenen satın almalar\n",
   "id": "aa8010eaf934dfbb"
  },
  {
   "metadata": {},
   "cell_type": "code",
   "source": "cltv_df['exp_sales_3_month'] = bgf.predict(3*4, cltv_df['frequency'], cltv_df['recency_cltv_weekly'], cltv_df['T_weekly'])",
   "id": "3fec1285d8be53c0",
   "outputs": [],
   "execution_count": null
  },
  {
   "metadata": {},
   "cell_type": "markdown",
   "source": "# 6 ay içerisinde beklenen satın almalar\n",
   "id": "9994d2079e7dbcf7"
  },
  {
   "metadata": {},
   "cell_type": "code",
   "source": "cltv_df['exp_sales_6_month'] = bgf.predict(6*4, cltv_df['frequency'], cltv_df['recency_cltv_weekly'], cltv_df['T_weekly'])",
   "id": "75360b4c9e778f42",
   "outputs": [],
   "execution_count": null
  },
  {
   "metadata": {},
   "cell_type": "markdown",
   "source": "# Gamma-Gamma modelini fit et\n",
   "id": "9a6369e9b3ed772a"
  },
  {
   "metadata": {},
   "cell_type": "code",
   "source": [
    "ggf = GammaGammaFitter(penalizer_coef=0.01)\n",
    "ggf.fit(cltv_df['frequency'], cltv_df['monetary_cltv_avg'])"
   ],
   "id": "b76d2ba9f4bc8ec1",
   "outputs": [],
   "execution_count": null
  },
  {
   "metadata": {},
   "cell_type": "markdown",
   "source": "# Tahmin edilen ortalama değeri dataframe'e ekle\n",
   "id": "b8e9370560e622ec"
  },
  {
   "metadata": {},
   "cell_type": "code",
   "source": "cltv_df['exp_average_value'] = ggf.conditional_expected_average_profit(cltv_df['frequency'], cltv_df['monetary_cltv_avg'])",
   "id": "e4b879eda52ebe37",
   "outputs": [],
   "execution_count": null
  },
  {
   "metadata": {},
   "cell_type": "markdown",
   "source": "# 6 aylık CLTV hesapla\n",
   "id": "b41f511b337d9587"
  },
  {
   "metadata": {},
   "cell_type": "code",
   "source": [
    "cltv_df['cltv'] = ggf.customer_lifetime_value(\n",
    "    bgf, \n",
    "    cltv_df['frequency'], \n",
    "    cltv_df['recency_cltv_weekly'], \n",
    "    cltv_df['T_weekly'], \n",
    "    cltv_df['monetary_cltv_avg'], \n",
    "    time=6,  # 6 aylık\n",
    "    freq='W',  # Haftalık\n",
    "    discount_rate=0.01  # İskonto oranı\n",
    ")"
   ],
   "id": "8c7d2b88dae63e50",
   "outputs": [],
   "execution_count": null
  },
  {
   "metadata": {},
   "cell_type": "markdown",
   "source": "# Müşterileri CLTV'ye göre segmentlere ayır\n",
   "id": "71ed9adf363b24cd"
  },
  {
   "metadata": {},
   "cell_type": "code",
   "source": "cltv_df['cltv_segment'] = pd.qcut(cltv_df['cltv'], 4, labels=[\"D\", \"C\", \"B\", \"A\"])",
   "id": "d32bac0098a6368c",
   "outputs": [],
   "execution_count": null
  },
  {
   "metadata": {},
   "cell_type": "markdown",
   "source": "# DataFrame'i görüntüle\n",
   "id": "8627b8c14833a13f"
  },
  {
   "metadata": {},
   "cell_type": "code",
   "source": "print(cltv_df.head())",
   "id": "f85aebd914380308",
   "outputs": [],
   "execution_count": null
  },
  {
   "metadata": {},
   "cell_type": "markdown",
   "source": "# CLTV değeri en yüksek 20 kişiyi gözlemle\n",
   "id": "7babe1d2739366db"
  },
  {
   "metadata": {},
   "cell_type": "code",
   "source": [
    "top_20_cltv = cltv_df.sort_values(by='cltv', ascending=False).head(20)\n",
    "print(top_20_cltv)"
   ],
   "id": "fcb3471dc024ad63",
   "outputs": [],
   "execution_count": null
  },
  {
   "metadata": {},
   "cell_type": "markdown",
   "source": "# Aksiyon önerileri\n",
   "id": "19e24c0717291748"
  },
  {
   "metadata": {},
   "cell_type": "code",
   "source": [
    "recommendations = {\n",
    "    \"Group A\": [\n",
    "        \"Sadakat Programları: En değerli müşterilerinize özel sadakat programları sunun. Özel indirimler, erken erişim fırsatları ve ücretsiz kargo gibi avantajlar sağlayarak sadakati artırın.\",\n",
    "        \"Kişiselleştirilmiş Pazarlama: Müşterilerin önceki alışveriş alışkanlıklarına dayanarak kişiselleştirilmiş pazarlama kampanyaları oluşturun. Onlara özel ürün önerileri ve kampanyalar sunarak müşteri memnuniyetini artırın.\"\n",
    "    ],\n",
    "    \"Group B\": [\n",
    "        \"Çapraz Satış Stratejileri: Bu gruptaki müşterilere ilgili ürünleri sunarak çapraz satış fırsatlarını değerlendirin. Örneğin, bir ayakkabı satın alan müşteriye uyumlu çorap veya bakım ürünleri önerin.\",\n",
    "        \"Müşteri Geri Bildirimi: Müşteri geri bildirimlerini toplamak ve değerlendirmek için anketler düzenleyin. Müşteri memnuniyetini artırmak için geri bildirimlere dayalı iyileştirmeler yapın.\"\n",
    "    ]\n",
    "}"
   ],
   "id": "6421c5aa6b4f0fed",
   "outputs": [],
   "execution_count": null
  },
  {
   "metadata": {},
   "cell_type": "markdown",
   "source": "# Önerileri görüntüle\n",
   "id": "ab9f232632121b30"
  },
  {
   "metadata": {},
   "cell_type": "code",
   "source": "print(recommendations)",
   "id": "59f2c41416fe6437",
   "outputs": [],
   "execution_count": null
  }
 ],
 "metadata": {
  "kernelspec": {
   "display_name": "Python 3",
   "language": "python",
   "name": "python3"
  },
  "language_info": {
   "codemirror_mode": {
    "name": "ipython",
    "version": 2
   },
   "file_extension": ".py",
   "mimetype": "text/x-python",
   "name": "python",
   "nbconvert_exporter": "python",
   "pygments_lexer": "ipython2",
   "version": "2.7.6"
  }
 },
 "nbformat": 4,
 "nbformat_minor": 5
}
